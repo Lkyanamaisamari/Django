{
  "nbformat": 4,
  "nbformat_minor": 0,
  "metadata": {
    "colab": {
      "provenance": [],
      "authorship_tag": "ABX9TyN2m5WbACG7saFgMlcbuR0o",
      "include_colab_link": true
    },
    "kernelspec": {
      "name": "python3",
      "display_name": "Python 3"
    },
    "language_info": {
      "name": "python"
    }
  },
  "cells": [
    {
      "cell_type": "markdown",
      "metadata": {
        "id": "view-in-github",
        "colab_type": "text"
      },
      "source": [
        "<a href=\"https://colab.research.google.com/github/Lkyanamaisamari/Django/blob/main/Image_classification_(Fashion_MNIST).ipynb\" target=\"_parent\"><img src=\"https://colab.research.google.com/assets/colab-badge.svg\" alt=\"Open In Colab\"/></a>"
      ]
    },
    {
      "cell_type": "markdown",
      "source": [
        "*Import dependencies*"
      ],
      "metadata": {
        "id": "l6JtTdw3Z9zm"
      }
    },
    {
      "cell_type": "code",
      "execution_count": 1,
      "metadata": {
        "id": "_Msv6CXeZwrK"
      },
      "outputs": [],
      "source": [
        "import tensorflow as tf\n",
        "from tensorflow.keras import datasets, layers, models\n",
        "import matplotlib.pyplot as plt\n",
        "import numpy as np"
      ]
    },
    {
      "cell_type": "markdown",
      "source": [
        "*Load the Fashion-MNIST*"
      ],
      "metadata": {
        "id": "QW9jrOsA4vfC"
      }
    },
    {
      "cell_type": "code",
      "source": [
        "(train_images, train_labels), (test_images, test_labels) = tf.keras.datasets.fashion_mnist.load_data()"
      ],
      "metadata": {
        "colab": {
          "base_uri": "https://localhost:8080/"
        },
        "id": "SHgAC4U-bN03",
        "outputId": "4f64298a-6b3b-4ea1-ab93-e8511c86f19b"
      },
      "execution_count": 5,
      "outputs": [
        {
          "output_type": "stream",
          "name": "stdout",
          "text": [
            "Downloading data from https://storage.googleapis.com/tensorflow/tf-keras-datasets/train-labels-idx1-ubyte.gz\n",
            "29515/29515 [==============================] - 0s 0us/step\n",
            "Downloading data from https://storage.googleapis.com/tensorflow/tf-keras-datasets/train-images-idx3-ubyte.gz\n",
            "26421880/26421880 [==============================] - 2s 0us/step\n",
            "Downloading data from https://storage.googleapis.com/tensorflow/tf-keras-datasets/t10k-labels-idx1-ubyte.gz\n",
            "5148/5148 [==============================] - 0s 0us/step\n",
            "Downloading data from https://storage.googleapis.com/tensorflow/tf-keras-datasets/t10k-images-idx3-ubyte.gz\n",
            "4422102/4422102 [==============================] - 1s 0us/step\n"
          ]
        }
      ]
    },
    {
      "cell_type": "markdown",
      "source": [
        "*Normalize pixel values to be between 0 and 1*"
      ],
      "metadata": {
        "id": "v_MXQoYpdc0I"
      }
    },
    {
      "cell_type": "code",
      "source": [
        "train_images = train_images / 255.0\n",
        "test_images = test_images / 255.0"
      ],
      "metadata": {
        "id": "I0qs8hGAdWGW"
      },
      "execution_count": 6,
      "outputs": []
    },
    {
      "cell_type": "markdown",
      "source": [
        "*Reshape the data to add a channel dimension*"
      ],
      "metadata": {
        "id": "2tGTaXyidt3a"
      }
    },
    {
      "cell_type": "code",
      "source": [
        "train_images = train_images.reshape((train_images.shape[0], 28, 28, 1))\n",
        "test_images = test_images.reshape((test_images.shape[0], 28, 28, 1))"
      ],
      "metadata": {
        "id": "_uZQfVDCdykI"
      },
      "execution_count": 7,
      "outputs": []
    },
    {
      "cell_type": "markdown",
      "source": [
        "*Define the model*"
      ],
      "metadata": {
        "id": "0SCan9F9d9WZ"
      }
    },
    {
      "cell_type": "code",
      "source": [
        "model = models.Sequential([\n",
        "    layers.Conv2D(32, (3, 3), activation='relu', input_shape=(28, 28, 1)),\n",
        "    layers.MaxPooling2D((2, 2)),\n",
        "    layers.Conv2D(64, (3, 3), activation='relu'),\n",
        "    layers.MaxPooling2D((2, 2)),\n",
        "    layers.Conv2D(64, (3, 3), activation='relu'),\n",
        "    layers.Flatten(),\n",
        "    layers.Dense(64, activation='relu'),\n",
        "    layers.Dense(10, activation='softmax')\n",
        "])"
      ],
      "metadata": {
        "id": "xOKnMLaUeCth"
      },
      "execution_count": 8,
      "outputs": []
    },
    {
      "cell_type": "markdown",
      "source": [
        "*Compile the model*"
      ],
      "metadata": {
        "id": "kgfRjpd3eLJz"
      }
    },
    {
      "cell_type": "code",
      "source": [
        "model.compile(optimizer='adam',\n",
        "              loss='sparse_categorical_crossentropy',\n",
        "              metrics=['accuracy'])"
      ],
      "metadata": {
        "id": "xT-2hM_reRMY"
      },
      "execution_count": 9,
      "outputs": []
    },
    {
      "cell_type": "markdown",
      "source": [
        "*Train the model*"
      ],
      "metadata": {
        "id": "GAKIJsCdebgp"
      }
    },
    {
      "cell_type": "code",
      "source": [
        "history = model.fit(train_images, train_labels, epochs=5,\n",
        "                    validation_data=(test_images, test_labels))"
      ],
      "metadata": {
        "colab": {
          "base_uri": "https://localhost:8080/"
        },
        "id": "S_dLJD5XejGH",
        "outputId": "708ec9e9-75ad-4765-e217-28d400440f64"
      },
      "execution_count": 10,
      "outputs": [
        {
          "output_type": "stream",
          "name": "stdout",
          "text": [
            "Epoch 1/5\n",
            "1875/1875 [==============================] - 64s 33ms/step - loss: 0.5045 - accuracy: 0.8133 - val_loss: 0.4038 - val_accuracy: 0.8516\n",
            "Epoch 2/5\n",
            "1875/1875 [==============================] - 58s 31ms/step - loss: 0.3266 - accuracy: 0.8804 - val_loss: 0.3251 - val_accuracy: 0.8833\n",
            "Epoch 3/5\n",
            "1875/1875 [==============================] - 61s 32ms/step - loss: 0.2784 - accuracy: 0.8977 - val_loss: 0.2905 - val_accuracy: 0.8965\n",
            "Epoch 4/5\n",
            "1875/1875 [==============================] - 57s 31ms/step - loss: 0.2501 - accuracy: 0.9072 - val_loss: 0.2941 - val_accuracy: 0.8927\n",
            "Epoch 5/5\n",
            "1875/1875 [==============================] - 57s 31ms/step - loss: 0.2249 - accuracy: 0.9159 - val_loss: 0.2721 - val_accuracy: 0.9036\n"
          ]
        }
      ]
    },
    {
      "cell_type": "markdown",
      "source": [
        "*Evaluate the model*"
      ],
      "metadata": {
        "id": "1_A1a2tnf3Tv"
      }
    },
    {
      "cell_type": "code",
      "source": [
        "test_loss, test_acc = model.evaluate(test_images, test_labels, verbose=2)\n",
        "print(f'Test accuracy: {test_acc}')"
      ],
      "metadata": {
        "colab": {
          "base_uri": "https://localhost:8080/"
        },
        "id": "CIo7rqyggCgb",
        "outputId": "050b66ad-22fb-423f-b4d1-37183c44b7b1"
      },
      "execution_count": 11,
      "outputs": [
        {
          "output_type": "stream",
          "name": "stdout",
          "text": [
            "313/313 - 3s - loss: 0.2721 - accuracy: 0.9036 - 3s/epoch - 10ms/step\n",
            "Test accuracy: 0.9035999774932861\n"
          ]
        }
      ]
    },
    {
      "cell_type": "markdown",
      "source": [
        "*Visualize training history*"
      ],
      "metadata": {
        "id": "xHAr9zjRgj8T"
      }
    },
    {
      "cell_type": "code",
      "source": [
        "plt.figure(figsize=(12, 4))\n",
        "\n",
        "plt.subplot(1, 2, 1)\n",
        "plt.plot(history.history['accuracy'], label='accuracy')\n",
        "plt.plot(history.history['val_accuracy'], label = 'val_accuracy')\n",
        "plt.xlabel('Epoch')\n",
        "plt.ylabel('Accuracy')\n",
        "plt.ylim([0.5, 1])\n",
        "plt.legend(loc='lower right')\n",
        "\n",
        "plt.subplot(1, 2, 2)\n",
        "plt.plot(history.history['loss'], label='loss')\n",
        "plt.plot(history.history['val_loss'], label = 'val_loss')\n",
        "plt.xlabel('Epoch')\n",
        "plt.ylabel('Loss')\n",
        "plt.legend(loc='upper right')\n",
        "\n",
        "plt.show()"
      ],
      "metadata": {
        "colab": {
          "base_uri": "https://localhost:8080/",
          "height": 253
        },
        "id": "43ZQQUZLgrLL",
        "outputId": "db38123a-5630-4868-9134-4dbeda4ecc2a"
      },
      "execution_count": 12,
      "outputs": [
        {
          "output_type": "display_data",
          "data": {
            "text/plain": [
              "<Figure size 1200x400 with 2 Axes>"
            ],
            "image/png": "[encoded data removed]"
          },
          "metadata": {}
        }
      ]
    },
    {
      "cell_type": "markdown",
      "source": [
        "*Select a few random test images*"
      ],
      "metadata": {
        "id": "_of09sv2g3-Z"
      }
    },
    {
      "cell_type": "code",
      "source": [
        "num_images = 10\n",
        "indices = np.random.choice(len(test_images), num_images)\n",
        "sample_test_images = test_images[indices]\n",
        "sample_test_labels = test_labels[indices]"
      ],
      "metadata": {
        "id": "A4ix6me4g6tW"
      },
      "execution_count": 50,
      "outputs": []
    },
    {
      "cell_type": "markdown",
      "source": [
        "*Make predictions*"
      ],
      "metadata": {
        "id": "Fv_pRErQhEf4"
      }
    },
    {
      "cell_type": "code",
      "source": [
        "predictions = model.predict(sample_test_images)"
      ],
      "metadata": {
        "colab": {
          "base_uri": "https://localhost:8080/"
        },
        "id": "9r-8NzKchJ_q",
        "outputId": "6549eaa1-1cbe-4721-8260-3d33935f6dd6"
      },
      "execution_count": 51,
      "outputs": [
        {
          "output_type": "stream",
          "name": "stdout",
          "text": [
            "1/1 [==============================] - 0s 26ms/step\n"
          ]
        }
      ]
    },
    {
      "cell_type": "markdown",
      "source": [
        "*Display the test images along with predicted and true labels*"
      ],
      "metadata": {
        "id": "vtX9vmV0hSJ2"
      }
    },
    {
      "cell_type": "code",
      "source": [
        "plt.figure(figsize=(10, 10))"
      ],
      "metadata": {
        "colab": {
          "base_uri": "https://localhost:8080/",
          "height": 52
        },
        "id": "8M7VUqRlhYgC",
        "outputId": "6b830b8f-b3f8-4d0d-f3fc-9c44b24b706a"
      },
      "execution_count": 52,
      "outputs": [
        {
          "output_type": "execute_result",
          "data": {
            "text/plain": [
              "<Figure size 1000x1000 with 0 Axes>"
            ]
          },
          "metadata": {},
          "execution_count": 52
        },
        {
          "output_type": "display_data",
          "data": {
            "text/plain": [
              "<Figure size 1000x1000 with 0 Axes>"
            ]
          },
          "metadata": {}
        }
      ]
    },
    {
      "cell_type": "code",
      "source": [
        "for i in range(num_images):\n",
        "    plt.subplot(1, num_images, i + 1)\n",
        "    plt.xticks([])\n",
        "    plt.yticks([])\n",
        "    plt.grid(False)\n",
        "    plt.imshow(sample_test_images[i].reshape(28, 28), cmap=plt.cm.binary)\n",
        "    predicted_label = np.argmax(predictions[i])\n",
        "    true_label = sample_test_labels[i]\n",
        "    color = 'blue' if predicted_label == true_label else 'red'\n",
        "    plt.xlabel(f\"Predicted: {predicted_label}\\nTrue: {true_label}\", color=color)\n",
        "plt.show()"
      ],
      "metadata": {
        "colab": {
          "base_uri": "https://localhost:8080/",
          "height": 114
        },
        "id": "oPI4cLHBhhie",
        "outputId": "3dc66f0f-ba5f-422a-d71b-b35117a19640"
      },
      "execution_count": 53,
      "outputs": [
        {
          "output_type": "display_data",
          "data": {
            "text/plain": [
              "<Figure size 640x480 with 10 Axes>"
            ],
            "image/png": "[encoded data removed]"
          },
          "metadata": {}
        }
      ]
    },
    {
      "cell_type": "markdown",
      "source": [
        "*Summary*"
      ],
      "metadata": {
        "id": "zxd7fv_J_1Es"
      }
    }
  ]
}